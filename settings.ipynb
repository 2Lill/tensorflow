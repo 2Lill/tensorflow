{
  "nbformat": 4,
  "nbformat_minor": 0,
  "metadata": {
    "colab": {
      "name": "settings.ipynb",
      "version": "0.3.2",
      "provenance": [],
      "collapsed_sections": [],
      "include_colab_link": true
    }
  },
  "cells": [
    {
      "cell_type": "markdown",
      "metadata": {
        "id": "view-in-github",
        "colab_type": "text"
      },
      "source": [
        "<a href=\"https://colab.research.google.com/github/2Lill/tensorflow/blob/master/settings.ipynb\" target=\"_parent\"><img src=\"https://colab.research.google.com/assets/colab-badge.svg\" alt=\"Open In Colab\"/></a>"
      ]
    },
    {
      "metadata": {
        "id": "pa8v7Fkk1rP2",
        "colab_type": "code",
        "colab": {}
      },
      "cell_type": "code",
      "source": [
        "# Google Drive のマウント\n",
        "# コードスニペット「Mounting Google Drive in your VM」で\n",
        "\n",
        "# PyTorchのインストール\n",
        "# コードスニペット「Install [pytorch]」で"
      ],
      "execution_count": 0,
      "outputs": []
    },
    {
      "metadata": {
        "id": "L24OKUjf-oqM",
        "colab_type": "code",
        "outputId": "b8c66fe4-67b2-49de-8c56-21997adcff6f",
        "colab": {
          "base_uri": "https://localhost:8080/",
          "height": 165
        }
      },
      "cell_type": "code",
      "source": [
        "# 動画生成用\n",
        "\n",
        "!apt -qq install xvfb ffmpeg> /dev/null\n",
        "!pip -q install gym\n",
        "!pip -q install JSAnimation\n",
        "!pip -q install pyglet==1.2.4\n",
        "!pip -q install pyopengl\n",
        "!pip -q install pyvirtualdisplay\n",
        "\n",
        "from pyvirtualdisplay import Display\n",
        "display = Display(visible=0, size=(1024, 768))\n",
        "display.start()\n",
        "import os\n",
        "os.environ[\"DISPLAY\"] = \":\" + str(display.display) + \".\" + str(display.screen)\n"
      ],
      "execution_count": 1,
      "outputs": [
        {
          "output_type": "stream",
          "text": [
            "\n",
            "WARNING: apt does not have a stable CLI interface. Use with caution in scripts.\n",
            "\n",
            "  Building wheel for JSAnimation (setup.py) ... \u001b[?25ldone\n",
            "\u001b[K    100% |████████████████████████████████| 972kB 17.5MB/s \n",
            "\u001b[?25h  Building wheel for pyvirtualdisplay (setup.py) ... \u001b[?25ldone\n",
            "\u001b[?25h  Building wheel for EasyProcess (setup.py) ... \u001b[?25ldone\n",
            "\u001b[?25h"
          ],
          "name": "stdout"
        }
      ]
    },
    {
      "metadata": {
        "id": "4fR83q5y2DO0",
        "colab_type": "code",
        "colab": {}
      },
      "cell_type": "code",
      "source": [
        ""
      ],
      "execution_count": 0,
      "outputs": []
    }
  ]
}